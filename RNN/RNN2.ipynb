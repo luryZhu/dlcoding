{
 "cells": [
  {
   "cell_type": "markdown",
   "id": "6451d20c",
   "metadata": {},
   "source": [
    "https://blog.csdn.net/iteapoy/article/details/106496287\n",
    "# RNN自然语言生成\n",
    "输入一个国家的语言名，和名字的首字母缩写，模型自动生成名字\n",
    "\n",
    "示例:\n",
    "```shell\n",
    "> python sample.py Russian RUS\n",
    "Rovakov\n",
    "Uantov\n",
    "Shavakov\n",
    "```\n",
    "\n",
    "## 预处理\n",
    "`n_letters` 表示字母表的长度。加入一个特殊符号 `<EOS>`,表示文本生成结束,当生成 `<EOS>` 的时候，就结束RNN的循环。\n",
    "\n",
    "用`unicodeToAscii()`函数将某些语言的特殊字符转换为Ascii码"
   ]
  },
  {
   "cell_type": "code",
   "execution_count": 1,
   "id": "cefde1f3",
   "metadata": {},
   "outputs": [
    {
     "name": "stdout",
     "output_type": "stream",
     "text": [
      "# categories: 18 ['Arabic', 'Chinese', 'Czech', 'Dutch', 'English', 'French', 'German', 'Greek', 'Irish', 'Italian', 'Japanese', 'Korean', 'Polish', 'Portuguese', 'Russian', 'Scottish', 'Spanish', 'Vietnamese']\n",
      "O'Neal\n"
     ]
    }
   ],
   "source": [
    "from io import open\n",
    "import glob\n",
    "import os\n",
    "import unicodedata\n",
    "import string\n",
    "\n",
    "# 生成字母表\n",
    "all_letters = string.ascii_letters + \" .,;'-\"\n",
    "n_letters = len(all_letters) + 1 # 加上一个 EOS 标记\n",
    "\n",
    "def findFiles(path): return glob.glob(path)\n",
    "\n",
    "# 将unicode转换为plain Ascii码\n",
    "def unicodeToAscii(s):\n",
    "    return ''.join(\n",
    "        c for c in unicodedata.normalize('NFD', s)\n",
    "        if unicodedata.category(c) != 'Mn'\n",
    "        and c in all_letters\n",
    "    )\n",
    "\n",
    "# 读入文件 filename, 每行存储为为一项,并转化为Ascii码\n",
    "def readLines(filename):\n",
    "    lines = open(filename, encoding='utf-8').read().strip().split('\\n')\n",
    "    return [unicodeToAscii(line) for line in lines]\n",
    "\n",
    "# 建立一个词典 键值对为 语言类别:名字数组\n",
    "# category_lines = {category: lines} , lines = [names...]\n",
    "category_lines = {}\n",
    "all_categories = []\n",
    "# 读入所有数据文件\n",
    "for filename in findFiles('data/names/*.txt'):\n",
    "    # 获取分类名,名字,存入字典\n",
    "    category = os.path.splitext(os.path.basename(filename))[0]\n",
    "    all_categories.append(category)\n",
    "    lines = readLines(filename)\n",
    "    category_lines[category] = lines\n",
    "\n",
    "n_categories = len(all_categories)\n",
    "\n",
    "if n_categories == 0 :\n",
    "    raise RuntimeError('Data not found. Make sure that you downloaded data '\n",
    "        'from https://download.pytorch.org/tutorial/data.zip and extract it to '\n",
    "        'the current directory.')\n",
    "\n",
    "print('# categories:', n_categories, all_categories)\n",
    "print(unicodeToAscii(\"O'Néàl\"))\n"
   ]
  },
  {
   "cell_type": "markdown",
   "id": "10808dad",
   "metadata": {},
   "source": [
    "转化为tensor,进行one-hot编码\n",
    "- `inputTensor()`函数：对输入的单词 line 进行one-hot 编码，大小为 < line_length × 1 × n_letters >\n",
    "\n",
    "- `categoryTensor()`函数：对类别进行 one-hot 编码，大小为 <1 x n_categories> ，和$x^t,h^{t-1}$拼接到一起成为$[category, x^t, h^{t-1}]$作为RNN的输入\n",
    "\n",
    "- `targetTensor()`函数：把目标值转换成Tensor，目标值不是 one-hot 编码，只是一个存储索引的序列\n",
    "\n",
    "文本生成的过程：每一步，根据当前输入的字母，预测下一步输出的字母。在这里，预测得到的字母就是生成的字母。\n",
    "\n",
    "### 创建样本\n",
    "训练样本是 `input - target` 对。\n",
    "例如，对样本 “`ABCD`”\n",
    "- 首先，加上结束标记 “`<EOS>`” ，变成 “`ABCD<EOS>`”\n",
    "- 然后，前一个字母是`input`，后一个字母是`target`，就可以创建成 (“`A`”, “`B`”), (“`B`”, “`C`”), (“`C`”, “`D`”), (“`D`”, “`<EOS>`”) 的样本对。 \n",
    "\n",
    "`input` 是one-hot 编码，`target` 则是普通的索引，可以看成是一个从 `n_letters` 到 `n_letters` 的多分类任务。比如：\n",
    "\n",
    "- `(“A”, “B”) = ([1,0,0,0,…,0,0],1)`\n",
    "- `(“B”, “C”) = ([0,1,0,0,…,0,0],2)`\n",
    "- `(“C”, “D”) = ([0,0,1,0,…,0,0],3)`\n",
    "- `(“D”, “<EOS>”) = ([0,0,0,1,…,0,0],4)`"
   ]
  },
  {
   "cell_type": "code",
   "execution_count": 2,
   "id": "7e30d6ea",
   "metadata": {},
   "outputs": [
    {
     "name": "stdout",
     "output_type": "stream",
     "text": [
      "cuda:0\n"
     ]
    }
   ],
   "source": [
    "import torch\n",
    "device = torch.device(\"cuda:0\" if torch.cuda.is_available() else \"cpu\")\n",
    "print(device)\n",
    "\n",
    "# category 的 one-hot编码\n",
    "def categoryTensor(category):\n",
    "    li = all_categories.index(category)\n",
    "    tensor = torch.zeros(1, n_categories)\n",
    "    tensor[0][li] = 1\n",
    "    return tensor.to(device)\n",
    "\n",
    "# input 的 one-hot编码 ，从第一个字母到最后一个字母（不包含 EOS）\n",
    "def inputTensor(line):\n",
    "    tensor = torch.zeros(len(line), 1, n_letters)\n",
    "    for li in range(len(line)):\n",
    "        letter = line[li]\n",
    "        tensor[li][0][all_letters.find(letter)] = 1\n",
    "    return tensor.to(device)\n",
    "\n",
    "# output 的 one-hot编码 ，从第二个字母到最后的 EOS 符\n",
    "def targetTensor(line):\n",
    "    letter_indexes = [all_letters.find(line[li])for li in range(1,len(line))]\n",
    "    letter_indexes.append(n_letters - 1) # EOS的索引\n",
    "    return torch.LongTensor(letter_indexes).to(device)\n"
   ]
  },
  {
   "cell_type": "code",
   "execution_count": 3,
   "id": "00f6c0d6",
   "metadata": {},
   "outputs": [],
   "source": [
    "import random\n",
    "\n",
    "# 从数组 l 中随机选一个元素\n",
    "def randomChoice(l):\n",
    "    return l[random.randint(0,len(l)-1)]\n",
    "\n",
    "# 随机采样一个 category，从该 category 中随机采样一个姓名line\n",
    "def randomTrainingPair():\n",
    "    category = randomChoice(all_categories)\n",
    "    line = randomChoice(category_lines[category])\n",
    "    return category, line\n",
    "\n",
    "# 从一个随机采样的 category-line 对中构建训练样本，\n",
    "# 包含 category 的tensor, input 的 tensor, 和 target 的 tensors \n",
    "def randomTrainingExample():\n",
    "    category, line = randomTrainingPair()\n",
    "    category_tensor = categoryTensor(category)\n",
    "    input_line_tensor = inputTensor(line)\n",
    "    target_line_tensor = targetTensor(line)\n",
    "    return category_tensor, input_line_tensor, target_line_tensor\n"
   ]
  },
  {
   "cell_type": "markdown",
   "id": "03d48a99",
   "metadata": {},
   "source": [
    "## 模型\n",
    "搭建本次任务的RNN模型，与RNN1不同的是:\n",
    "这次多了一个 o2o 层，并且用一个 dropout 层来防止过拟合。\n",
    "\n",
    "- `input_combined = torch.cat((category, input, hidden),1)`：拼接得到$[category, x^t, h^{t-1}]$\n",
    "- `hidden = self.i2h(input_combined)`：$h^t= W_h[category, x^t, h^{t-1}]$\n",
    "- `output = self.i2o(input_combined)`：$o^t=W_{o1}[category, x^t, h^{t-1}]$\n",
    "- `output_combined = torch.cat((hidden, output), 1)`：${o^t}' = [h^t, o^t]$\n",
    "- `output = self.o2o(output_combined)`：$o^t = W_{o2}{o^t}'=W_{o2}[h^t, o^t]$\n",
    "- `output = self.dropout(output)`：用 dropout 防止过拟合\n",
    "- `output = self.softmax(output)`：用 softmax 把 $o^t$ 转化成预测字母的概率分布$y^t$\n"
   ]
  },
  {
   "cell_type": "code",
   "execution_count": 4,
   "id": "dd288cf8",
   "metadata": {},
   "outputs": [],
   "source": [
    "import torch.nn as nn\n",
    "\n",
    "class RNN(nn.Module):\n",
    "    def __init__(self, input_size, hidden_size, output_size):\n",
    "        super(RNN,self).__init__() \n",
    "        self.hidden_size = hidden_size\n",
    "        self.i2h = nn.Linear(n_categories + input_size + hidden_size, hidden_size)\n",
    "        self.i2o = nn.Linear(n_categories + input_size + hidden_size, output_size)\n",
    "        self.o2o = nn.Linear(hidden_size + output_size, output_size)\n",
    "        self.dropout = nn.Dropout(0.1)\n",
    "        self.softmax = nn.LogSoftmax(dim=1)\n",
    "\n",
    "    def forward(self, category, input, hidden):\n",
    "        input_combined = torch.cat((category, input, hidden),1)\n",
    "        hidden = self.i2h(input_combined)\n",
    "        output = self.i2o(input_combined)\n",
    "        output_combined = torch.cat((hidden, output), 1)\n",
    "        output = self.o2o(output_combined)\n",
    "        output = self.dropout(output)\n",
    "        output = self.softmax(output)\n",
    "        return output, hidden\n",
    "    \n",
    "    def initHidden(self):\n",
    "        return torch.zeros(1,self.hidden_size).to(device)\n"
   ]
  },
  {
   "cell_type": "markdown",
   "id": "54414735",
   "metadata": {},
   "source": [
    "## 训练\n",
    "在分类任务中，只用到了最后一步的 output   \n",
    "但是在本次的文本生成任务中，要用到每一步的 output ，所以，在每一步都计算损失loss.\n",
    "\n",
    "output 最后一层经过了 LogSoftmax，所以对应的损失函数依然是NLLLoss()\n",
    "学习率设置为0.0005\n"
   ]
  },
  {
   "cell_type": "code",
   "execution_count": 5,
   "id": "89401b51",
   "metadata": {},
   "outputs": [],
   "source": [
    "criterion = nn.NLLLoss()\n",
    "\n",
    "learning_rate = 0.0005\n",
    "\n",
    "def train(category_tensor, input_line_tensor, target_line_tensor):\n",
    "    target_line_tensor.unsqueeze_(-1)\n",
    "    hidden = rnn.initHidden()\n",
    "\n",
    "    rnn.zero_grad()\n",
    "\n",
    "    loss = 0\n",
    "\n",
    "    for i in range(input_line_tensor.size(0)):\n",
    "        output, hidden = rnn(category_tensor, input_line_tensor[i], hidden)\n",
    "        loss += criterion(output, target_line_tensor[i])\n",
    "\n",
    "    loss.backward()\n",
    "\n",
    "    for p in rnn.parameters():\n",
    "        p.data.add_(p.grad.data, alpha=-learning_rate)\n",
    "\n",
    "    return output, loss.item() / input_line_tensor.size(0)\n"
   ]
  },
  {
   "cell_type": "code",
   "execution_count": 6,
   "id": "5c53e97e",
   "metadata": {},
   "outputs": [
    {
     "name": "stdout",
     "output_type": "stream",
     "text": [
      "0m 25s (5000 5%) 3.3489\n",
      "0m 50s (10000 10%) 2.9638\n",
      "1m 15s (15000 15%) 2.5191\n",
      "1m 40s (20000 20%) 2.8835\n",
      "2m 5s (25000 25%) 1.7875\n",
      "2m 30s (30000 30%) 2.4752\n",
      "2m 56s (35000 35%) 2.5013\n",
      "3m 21s (40000 40%) 2.2489\n",
      "3m 47s (45000 45%) 2.9162\n",
      "4m 13s (50000 50%) 2.2067\n",
      "4m 39s (55000 55%) 2.3462\n",
      "5m 5s (60000 60%) 1.7693\n",
      "5m 30s (65000 65%) 2.4698\n",
      "5m 56s (70000 70%) 1.8680\n",
      "6m 22s (75000 75%) 2.3637\n",
      "6m 48s (80000 80%) 1.9290\n",
      "7m 14s (85000 85%) 2.3738\n",
      "7m 39s (90000 90%) 1.8064\n",
      "8m 5s (95000 95%) 2.2696\n",
      "8m 29s (100000 100%) 2.5106\n"
     ]
    }
   ],
   "source": [
    "import time\n",
    "\n",
    "def timeSince(since):\n",
    "    now = time.time()\n",
    "    s = now-since\n",
    "    return '%dm %ds'%(s//60,s%60)\n",
    "\n",
    "n_iters = 100000\n",
    "print_every = 5000\n",
    "plot_every = 500\n",
    "\n",
    "all_losses = []\n",
    "total_loss = 0\n",
    "\n",
    "n_hidden = 128\n",
    "rnn = RNN(n_letters, n_hidden, n_letters)\n",
    "rnn = rnn.to(device)\n",
    "\n",
    "start = time.time()\n",
    "\n",
    "for iter in range(1, n_iters + 1):\n",
    "    output, loss = train(*randomTrainingExample())\n",
    "    total_loss += loss\n",
    "\n",
    "    if iter % print_every == 0:\n",
    "        print('%s (%d %d%%) %.4f' % \n",
    "          (timeSince(start),iter, iter/n_iters*100,loss))\n",
    "    \n",
    "    if iter % plot_every == 0:\n",
    "        all_losses.append(total_loss/plot_every)\n",
    "        total_loss = 0\n"
   ]
  },
  {
   "cell_type": "code",
   "execution_count": 7,
   "id": "ecff7a59",
   "metadata": {},
   "outputs": [
    {
     "data": {
      "text/plain": [
       "[<matplotlib.lines.Line2D at 0x212c1cceee0>]"
      ]
     },
     "execution_count": 7,
     "metadata": {},
     "output_type": "execute_result"
    },
    {
     "data": {
      "image/png": "[encoded data removed]",
      "text/plain": [
       "<Figure size 432x288 with 1 Axes>"
      ]
     },
     "metadata": {
      "needs_background": "light"
     },
     "output_type": "display_data"
    }
   ],
   "source": [
    "import matplotlib.pyplot as plt\n",
    "import matplotlib.ticker as ticker\n",
    "\n",
    "plt.figure()\n",
    "plt.plot(all_losses)\n"
   ]
  },
  {
   "cell_type": "markdown",
   "id": "62d6c754",
   "metadata": {},
   "source": [
    "## 预测\n",
    "给定模型一个首字母，然后模型生成下一个字母，不断重复，直到遇到 “`<EOS>`”标记符，停止生成。\n",
    "\n",
    "- 创建输入类别category的tensor，开始字母的 tensor 和 初始化隐藏层状态$h^0$\n",
    "- 用首字母生成一个字符串 output_name\n",
    "- 在到达最大输出长度前：\n",
    "    - 给模型输入当前的字母\n",
    "    - 模型生成下一个字母，和下一个隐藏层状态\n",
    "    - 如果生成的字母是 “`<EOS>`”标记符， 停止生成\n",
    "    - 如果生成的字母是一个常规的字母，把它加入 output_name，并且继续生成\n",
    "- 返回最终生成的名字 output_name"
   ]
  },
  {
   "cell_type": "code",
   "execution_count": 22,
   "id": "0529958d",
   "metadata": {},
   "outputs": [
    {
     "name": "stdout",
     "output_type": "stream",
     "text": [
      "Rakilov\n",
      "Uoverin\n",
      "Shaki\n",
      "\n",
      "Ganger\n",
      "Erane\n",
      "Roulle\n",
      "\n",
      "Sara\n",
      "Para\n",
      "Alara\n",
      "\n",
      "Xuag\n",
      "Iun\n",
      "Aha\n",
      "\n",
      "Xaka\n",
      "Roukas\n",
      "Araka\n",
      "\n"
     ]
    }
   ],
   "source": [
    "max_length = 20\n",
    "\n",
    "def sample(category, start_letter = 'A'):\n",
    "    with torch.no_grad():\n",
    "        category_tensor = categoryTensor(category)\n",
    "        input = inputTensor(start_letter)\n",
    "        hidden = rnn.initHidden()\n",
    "    \n",
    "        output_name = start_letter\n",
    "\n",
    "    for i in range(max_length):\n",
    "        output, hidden = rnn(category_tensor,input[0],hidden)\n",
    "        topv, topi = output.topk(1)\n",
    "        topi = topi[0][0]\n",
    "        if topi == n_letters - 1 :\n",
    "            break\n",
    "        else:\n",
    "            letter = all_letters[topi]\n",
    "            output_name += letter\n",
    "        input = inputTensor(letter)\n",
    "\n",
    "    return output_name\n",
    "\n",
    "def samples(category, start_letters='ABC'):\n",
    "    for start_letter in start_letters:\n",
    "        print(sample(category,start_letter))\n",
    "    print()\n",
    "\n",
    "samples('Russian', 'RUS')\n",
    "\n",
    "samples('German', 'GER')\n",
    "\n",
    "samples('Spanish', 'SPA')\n",
    "\n",
    "samples('Chinese', 'XIA')\n",
    "\n",
    "samples('Japanese', 'XRA')\n"
   ]
  },
  {
   "cell_type": "code",
   "execution_count": 23,
   "id": "aeda9c3e",
   "metadata": {},
   "outputs": [
    {
     "name": "stdout",
     "output_type": "stream",
     "text": [
      "Sara\n",
      "\n"
     ]
    }
   ],
   "source": [
    "samples('Spanish', 'S')"
   ]
  },
  {
   "cell_type": "code",
   "execution_count": null,
   "id": "368b7462",
   "metadata": {},
   "outputs": [],
   "source": []
  }
 ],
 "metadata": {
  "kernelspec": {
   "display_name": "Python 3 (ipykernel)",
   "language": "python",
   "name": "python3"
  },
  "language_info": {
   "codemirror_mode": {
    "name": "ipython",
    "version": 3
   },
   "file_extension": ".py",
   "mimetype": "text/x-python",
   "name": "python",
   "nbconvert_exporter": "python",
   "pygments_lexer": "ipython3",
   "version": "3.8.10"
  }
 },
 "nbformat": 4,
 "nbformat_minor": 5
}
