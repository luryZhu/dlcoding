{
 "cells": [
  {
   "cell_type": "markdown",
   "id": "a8e12ff2",
   "metadata": {},
   "source": [
    "https://blog.csdn.net/iteapoy/article/details/106478462\n",
    "# 循环神经网络\n",
    "LSTM分类任务\n",
    "输入多种语言的名字,判断属于哪种语言\n",
    "character-level字母级别RNN\n"
   ]
  },
  {
   "cell_type": "code",
   "execution_count": 14,
   "id": "71076c0d",
   "metadata": {},
   "outputs": [],
   "source": [
    "from __future__ import unicode_literals,print_function,division\n",
    "from io import open\n",
    "import glob\n",
    "import os\n",
    "import unicodedata\n",
    "import string\n",
    "import torch\n",
    "import torch.nn as nn\n",
    "import random"
   ]
  },
  {
   "cell_type": "markdown",
   "id": "5cc4c504",
   "metadata": {},
   "source": [
    "## 语法\n",
    "### glob\n",
    "glob是python自带的一个文件操作相关模块，可以查找文件\n",
    "\n",
    "支持通配符操作*,?,[]这三个通配符\n",
    "- *代表0个或多个字符\n",
    "- ?代表一个字符\n",
    "- []匹配指定范围内的字符，如[0-9]匹配数字\n",
    "\n",
    "glob.glob方法返回所有匹配的文件路径列表（list）\n",
    "- 输入参数:字符串,指定路径（绝对路径或相对路径）\n",
    "- 返回参数:文件名list,只包括当前目录里的文件名，不包括子文件夹\n",
    "\n",
    "#### 使用例:\n",
    "\n",
    "##### 绝对路径:\n",
    "`glob.glob(r’c:*.txt’)`\n",
    "获得C盘下的所有txt文件\n",
    "\n",
    "`glob.glob(r’E:\\pic**.jpg’)`\n",
    "获得指定目录下的所有jpg文件\n",
    "\n",
    "##### 相对路径：\n",
    "- “/”：根目录，在windows系统下表示某个盘的根目录，如“E:\\”；\n",
    "- “./”：当前目录；（表示当前目录时，也可以去掉“./”，直接写文件名或者下级目录）\n",
    "- “../”：父级目录\n",
    "\n",
    "`glob.glob(r’../*.py’)`\n",
    "获得脚本所在目录下的全部py文件\n"
   ]
  },
  {
   "cell_type": "markdown",
   "id": "72b8dd8f",
   "metadata": {},
   "source": [
    "## 预处理\n",
    "某些语言的字母和常见字母不一样,所以要先转换成英文字母\n",
    "`string.ascii_letters`:生成字母a-z A-Z\n",
    "\n",
    "`unicodedata`:提供对unicode数据库的访问\n",
    "\n",
    "`unicodedata.normalize(form, unistr)`\n",
    "\n",
    "返回Unicode字符串unistr的常规表单形式。表单的有效值为'NFC'，'NFKC'，'NFD'和'NFKD'。\n",
    "\n",
    "对于每个字符，有两种正常形式：标准形式C和标准形式D.\n",
    "- 标准形式D（NFD）也称为规范分解，并将每个字符转换为其分解形式。\n",
    "- 标准形式C（NFC）首先应用规范分解，然后再组合预先组合的字符。\n",
    "\n",
    "`unicodedata.category(unichr)`\n",
    "\n",
    "以字符串形式返回分配给Unicode字符unichr的常规类别。\n",
    "\"Mn\"代表`Nonspacing_Mark`\n",
    "\n",
    "`os.path.basename(path)`\n",
    "传入路径 返回文件名"
   ]
  },
  {
   "cell_type": "code",
   "execution_count": 6,
   "id": "ed25975d",
   "metadata": {},
   "outputs": [
    {
     "name": "stdout",
     "output_type": "stream",
     "text": [
      "['data/names\\\\Arabic.txt', 'data/names\\\\Chinese.txt', 'data/names\\\\Czech.txt', 'data/names\\\\Dutch.txt', 'data/names\\\\English.txt', 'data/names\\\\French.txt', 'data/names\\\\German.txt', 'data/names\\\\Greek.txt', 'data/names\\\\Irish.txt', 'data/names\\\\Italian.txt', 'data/names\\\\Japanese.txt', 'data/names\\\\Korean.txt', 'data/names\\\\Polish.txt', 'data/names\\\\Portuguese.txt', 'data/names\\\\Russian.txt', 'data/names\\\\Scottish.txt', 'data/names\\\\Spanish.txt', 'data/names\\\\Vietnamese.txt']\n"
     ]
    }
   ],
   "source": [
    "#获取目录下的文件名,即所有语言\n",
    "def findFiles(path): return glob.glob(path)\n",
    "#print(findFiles('data/names/*.txt'))\n",
    "\n",
    "#定义字母表\n",
    "#包括全部字母 a-z A-Z 符号.,;\n",
    "all_letters = string.ascii_letters + \" .,;'\"\n",
    "n_letters = len(all_letters)\n",
    "\n",
    "#将unicode编码转化为plain Ascii\n",
    "def unicodeToAscii(s):\n",
    "    return ''.join(\n",
    "      c for c in unicodedata.normalize('NFD',s)\n",
    "      if unicodedata.category(c)!='Mn'\n",
    "      and c in all_letters\n",
    "    )\n",
    "\n",
    "#print(unicodeToAscii('Ślusàrski'))"
   ]
  },
  {
   "cell_type": "code",
   "execution_count": 8,
   "id": "3e139c18",
   "metadata": {},
   "outputs": [],
   "source": [
    "category_lines = {}\n",
    "all_categories = []\n",
    "\n",
    "#读文件,返回转化为plain ascii码的姓名\n",
    "def readLines(filename):\n",
    "    lines = open(filename,encoding='utf-8').read().strip().split('\\n')\n",
    "    return [unicodeToAscii(line) for line in lines]\n",
    "\n",
    "#读names目录下的所有txt文件\n",
    "#文件名是label,存入all_categories\n",
    "#文件内容是姓名,以键值对的形式存入字典category_lines\n",
    "for filename in findFiles('data/names/*.txt'):\n",
    "    category = os.path.splitext(os.path.basename(filename))[0]\n",
    "    all_categories.append(category)\n",
    "    lines = readLines(filename)\n",
    "    category_lines[category] = lines\n",
    "\n",
    "n_categories = len(all_categories)\n",
    "#print(all_categories)\n",
    "#print(category_lines['Italian'])\n"
   ]
  },
  {
   "cell_type": "markdown",
   "id": "977234b0",
   "metadata": {},
   "source": [
    "### one-hot编码\n",
    "分类问题,将文字转化为向量\n"
   ]
  },
  {
   "cell_type": "code",
   "execution_count": 9,
   "id": "3a13f035",
   "metadata": {},
   "outputs": [],
   "source": [
    "import torch\n",
    "\n",
    "#GPU\n",
    "device = torch.device(\"cuda:0\" if torch.cuda.is_available() else \"cpu\")\n",
    "\n",
    "# 返回字母 letter 的索引 index\n",
    "def letterToIndex(letter):\n",
    "    return all_letters.find(letter)\n",
    "  \n",
    "# 把一个字母编码成tensor\n",
    "def letterToTensor(letter):\n",
    "    tensor = torch.zeros(1,n_letters)\n",
    "    # 把字母 letter 的索引设定为1，其它都是0\n",
    "    tensor[0][letterToIndex(letter)] = 1\n",
    "    return tensor.to(device)\n",
    "\n",
    "# 把一个单词编码成tensor\n",
    "# 传入单词,存储成(单词长度,1,字母表长度)的tensor\n",
    "def lineToTensor(line):\n",
    "    tensor = torch.zeros(len(line),1,n_letters)\n",
    "    # 遍历单词中的所有字母，对每个字母 letter 它的索引设定为1，其它都是0\n",
    "    for li, letter in enumerate(line):\n",
    "        tensor[li][0][letterToIndex(letter)] = 1\n",
    "    return tensor.to(device)\n",
    "\n",
    "#print(letterToTensor('J'))\n",
    "#print(lineToTensor('Jones').size())\n"
   ]
  },
  {
   "cell_type": "markdown",
   "id": "ac8b7f3d",
   "metadata": {},
   "source": [
    "## 模型\n",
    "它是一个两层的结构\n",
    "- `i2h`是输入 $x^t$ 到隐藏层 $h^t$ 的方法\n",
    "- `i2o`是输入 $x^t$ 到输出$o^t$ 的方法\n",
    "- `softmax`是把输出 $o^t$ 变成预测值 $y^t$ ,实际上，它在这里是一个 LogSoftmax 函数，对应的损失函数是`NLLLoss()`，而如果它是一般的 Softmax 函数，对应的损失函数就是交叉熵损失 `CrossEntropy() = Log (NLLLoss())`。\n",
    "\n",
    "这里设定隐藏层的向量维度为128维，为了简单，可以说是隐藏层的大小是128维。\n",
    "\n",
    "模型真正的运行步骤在 `forward()`函数中，它的输入 `input` 即为$x^t$，隐藏层`hidden` 即为 $h^t$\n",
    "\n",
    "- `combined = torch.cat((input,hidden),1)`：把$x^t$和上一步的$h^{t-1}$拼接在一起，变成 $[ x^t , h^{t − 1} ]$\n",
    "- `hidden = self.i2h(combined)`：把输入$[ x^t , h^{t − 1} ]$乘上权重 $W_h$ 变成新的隐藏层 $h^t = W_h [ x^t , h^{t − 1} ]$,输入大小是 `input_size + hidden_size`， 输出大小是 `hidden_size`\n",
    "- `output = self.i2o(combined)`：把输入 $[ x^t , h^{t − 1} ]$乘上权重 $W_o$ ，得到输出$o^t = W_o [ x^t , h^{t − 1} ]$,输入大小是 `input_size + hidden_size`， 输出大小是 `output_size`\n",
    "- `output = self.softmax(output)`：通过一个softmax函数，把输出 $o^t$ 变成预测值 $y^t = log \\text{softmax}( o^t ) $"
   ]
  },
  {
   "cell_type": "code",
   "execution_count": 10,
   "id": "76d76282",
   "metadata": {},
   "outputs": [],
   "source": [
    "class RNN(nn.Module):\n",
    "    # 初始化定义每一层的输入大小，输出大小\n",
    "    def __init__(self, input_size, hidden_size, output_size):\n",
    "        super(RNN,self).__init__()\n",
    "\n",
    "        self.hidden_size = hidden_size\n",
    "        self.i2h = nn.Linear(input_size + hidden_size, hidden_size)\n",
    "        self.i2o = nn.Linear(input_size + hidden_size, output_size)\n",
    "        self.softmax = nn.LogSoftmax(dim=1)\n",
    "\n",
    "    # 前向传播过程\n",
    "    def forward(self, input, hidden):\n",
    "        #合并x^t,h^t-1\n",
    "        combined = torch.cat((input,hidden),1)\n",
    "        #产生h^t\n",
    "        hidden = self.i2h(combined)\n",
    "        #产生o^t\n",
    "        output = self.i2o(combined)\n",
    "        #产生y^t\n",
    "        output = self.softmax(output)\n",
    "        return output, hidden\n",
    "\n",
    "    # 初始化隐藏层状态 h0  \n",
    "    def initHidden(self):\n",
    "        return torch.zeros(1,self.hidden_size).to(device)\n",
    "\n",
    "n_hidden = 128\n",
    "rnn = RNN(n_letters, n_hidden, n_categories)\n",
    "rnn = rnn.to(device)\n"
   ]
  },
  {
   "cell_type": "code",
   "execution_count": 12,
   "id": "a4534e87",
   "metadata": {},
   "outputs": [
    {
     "name": "stdout",
     "output_type": "stream",
     "text": [
      "tensor([[-2.8921, -2.9388, -2.8289, -2.8195, -2.8366, -2.9516, -2.9952, -2.8659,\n",
      "         -2.8745, -2.8468, -2.8114, -2.9643, -2.9699, -2.9161, -2.8828, -2.9293,\n",
      "         -2.9781, -2.7628]], device='cuda:0', grad_fn=<LogSoftmaxBackward>)\n"
     ]
    }
   ],
   "source": [
    "#用字母A测试\n",
    "input=letterToTensor('A')\n",
    "hidden=torch.zeros(1,n_hidden).to(device)\n",
    "\n",
    "out,next_hidden=rnn(input,hidden)\n",
    "print(out)"
   ]
  },
  {
   "cell_type": "code",
   "execution_count": 13,
   "id": "02c6bcea",
   "metadata": {},
   "outputs": [
    {
     "name": "stdout",
     "output_type": "stream",
     "text": [
      "('Vietnamese', 17)\n"
     ]
    }
   ],
   "source": [
    "# 把18维向量 y^t 转换为分类结果\n",
    "# y^t是一组概率值,选择其中最大值就是分类结果\n",
    "def categoryFromOutput(output):\n",
    "    top_n, top_i = output.topk(1)\n",
    "    category_i = top_i[0].item()\n",
    "    return all_categories[category_i], category_i\n",
    "\n",
    "print(categoryFromOutput(out))\n"
   ]
  },
  {
   "cell_type": "markdown",
   "id": "75a54a0d",
   "metadata": {},
   "source": [
    "## 训练\n",
    "随机采样一部分样本来训练"
   ]
  },
  {
   "cell_type": "code",
   "execution_count": 15,
   "id": "d0b8e6ef",
   "metadata": {},
   "outputs": [
    {
     "name": "stdout",
     "output_type": "stream",
     "text": [
      "category =  Greek / line =  Christou\n",
      "category =  Korean / line =  Ho\n",
      "category =  Italian / line =  Bove\n",
      "category =  Vietnamese / line =  Tron\n",
      "category =  Greek / line =  Makricosta\n",
      "category =  English / line =  Corlett\n",
      "category =  Russian / line =  Marhanov\n",
      "category =  Korean / line =  Oh \n",
      "category =  Italian / line =  Sabbadin\n",
      "category =  Chinese / line =  Shi\n"
     ]
    }
   ],
   "source": [
    "# 随机选择1个分类\n",
    "def randomChoice(l):\n",
    "    return l[random.randint(0,len(l)-1)]\n",
    "\n",
    "# 随机选择1个样本\n",
    "def randomTrainingExample():\n",
    "    category = randomChoice(all_categories)\n",
    "    line = randomChoice(category_lines[category])\n",
    "    category_tensor = torch.tensor([all_categories.index(category)], dtype=torch.long).to(device)\n",
    "    line_tensor = lineToTensor(line)\n",
    "    return category, line, category_tensor, line_tensor\n",
    "\n",
    "# 采样10个样本试一试\n",
    "for i in range(10):\n",
    "    category, line, category_tensor, line_tensor = randomTrainingExample()\n",
    "    print('category = ', category, '/ line = ', line)\n"
   ]
  },
  {
   "cell_type": "markdown",
   "id": "bddb73fe",
   "metadata": {},
   "source": [
    "定义损失函数为 `NLLLoss()`， 学习率0.005。\n",
    "\n",
    "在训练的每个循环会执行以下过程：\n",
    "\n",
    "- 创建输入tensor和目标tensor\n",
    "- 初始化隐藏层状态 $h^0$ \n",
    "- 输入每个字母$x^t$\n",
    "- 保存下一个字母需要的隐藏层状态$h^t$\n",
    "- 将模型预测的输出$y^t$和label $\\hat{y}$ 计算损失\n",
    "- 梯度反向传播\n",
    "- 返回输出和损失函数\n"
   ]
  },
  {
   "cell_type": "code",
   "execution_count": 17,
   "id": "3f203635",
   "metadata": {},
   "outputs": [],
   "source": [
    "criterion = nn.NLLLoss()\n",
    "learning_rate = 0.005\n",
    "\n",
    "def train(category_tensor, line_tensor):\n",
    "    hidden = rnn.initHidden()\n",
    "\n",
    "    rnn.zero_grad()\n",
    "    \n",
    "    # RNN的循环\n",
    "    for i in range(line_tensor.size()[0]):\n",
    "        output, hidden = rnn(line_tensor[i],hidden)\n",
    "\n",
    "    loss = criterion(output, category_tensor)\n",
    "    loss.backward()\n",
    "\n",
    "    # 更新参数\n",
    "    for p in rnn.parameters():\n",
    "        p.data.add_(p.grad.data, alpha=-learning_rate)\n",
    "\n",
    "    return output, loss.item()\n"
   ]
  },
  {
   "cell_type": "markdown",
   "id": "ddf3d1d3",
   "metadata": {},
   "source": [
    "### 正式训练\n",
    "训练模型"
   ]
  },
  {
   "cell_type": "code",
   "execution_count": 18,
   "id": "edea5385",
   "metadata": {},
   "outputs": [
    {
     "name": "stdout",
     "output_type": "stream",
     "text": [
      "5000 5% (0m 11s) 2.4738 Navratil / Greek ×(Czech)\n",
      "10000 10% (0m 22s) 3.0441 Delaney / Dutch ×(Irish)\n",
      "15000 15% (0m 33s) 3.3239 Hoffman / Irish ×(German)\n",
      "20000 20% (0m 44s) 2.3252 Fonda / Spanish ×(Italian)\n",
      "25000 25% (0m 55s) 0.9873 Reuter / German √\n",
      "30000 30% (1m 6s) 1.2841 Silveira / Portuguese √\n",
      "35000 35% (1m 17s) 0.8366 Turpyatko / Russian √\n",
      "40000 40% (1m 28s) 4.3822 Tangeman / Irish ×(German)\n",
      "45000 45% (1m 39s) 1.9190 Severins / German ×(Dutch)\n",
      "50000 50% (1m 50s) 1.4236 Ho / Korean ×(Vietnamese)\n",
      "55000 55% (2m 1s) 2.9225 Macias / Portuguese ×(Spanish)\n",
      "60000 60% (2m 13s) 0.0242 Pantelakos / Greek √\n",
      "65000 65% (2m 24s) 0.0062 Vassilopulos / Greek √\n",
      "70000 70% (2m 35s) 1.0722 Forest / French √\n",
      "75000 75% (2m 47s) 7.4197 Theohari / Japanese ×(Greek)\n",
      "80000 80% (2m 58s) 1.4355 Kurzmann / Dutch ×(German)\n",
      "85000 85% (3m 9s) 2.4411 Croce / Scottish ×(Italian)\n",
      "90000 90% (3m 20s) 0.1161 Nghiem / Vietnamese √\n",
      "95000 95% (3m 32s) 0.2051 Shamoon / Arabic √\n",
      "100000 100% (3m 43s) 1.6672 Alvey / French ×(English)\n"
     ]
    }
   ],
   "source": [
    "import time\n",
    "import math\n",
    "\n",
    "n_iters = 100000   #训练100000次\n",
    "print_every = 5000 #每5000次打印一次\n",
    "plot_every = 1000  #每1000次画图一次\n",
    "\n",
    "current_loss = 0   #当前损失函数\n",
    "all_losses = []    #存储损失\n",
    "\n",
    "#计算总训练时间\n",
    "def timeSince(since):\n",
    "    now = time.time()\n",
    "    s = now-since\n",
    "    return '%dm %ds'%(s//60,s%60)\n",
    "\n",
    "start = time.time()\n",
    "\n",
    "for iter in range(1, n_iters + 1):\n",
    "    #随机采样训练样本\n",
    "    category, line, category_tensor, line_tensor = randomTrainingExample()\n",
    "    #训练\n",
    "    output, loss = train(category_tensor, line_tensor)\n",
    "    current_loss += loss\n",
    "\n",
    "    if iter % print_every == 0:\n",
    "        guess, guess_i = categoryFromOutput(output)\n",
    "        correct = '√' if guess==category else '×(%s)'%category\n",
    "        print('%d %d%% (%s) %.4f %s / %s %s' % \n",
    "          (iter, iter/n_iters*100,timeSince(start),loss,line,guess,correct))\n",
    "\n",
    "    if iter % plot_every == 0:\n",
    "        all_losses.append(current_loss/plot_every)\n",
    "        current_loss = 0"
   ]
  },
  {
   "cell_type": "code",
   "execution_count": 19,
   "id": "02c82816",
   "metadata": {},
   "outputs": [
    {
     "data": {
      "text/plain": [
       "[<matplotlib.lines.Line2D at 0x1d7aff0ca00>]"
      ]
     },
     "execution_count": 19,
     "metadata": {},
     "output_type": "execute_result"
    },
    {
     "data": {
      "image/png": "[encoded data removed]",
      "text/plain": [
       "<Figure size 432x288 with 1 Axes>"
      ]
     },
     "metadata": {
      "needs_background": "light"
     },
     "output_type": "display_data"
    }
   ],
   "source": [
    "#绘制损失函数\n",
    "import matplotlib.pyplot as plt\n",
    "import matplotlib.ticker as ticker\n",
    "\n",
    "plt.figure()\n",
    "plt.plot(all_losses)\n"
   ]
  },
  {
   "cell_type": "code",
   "execution_count": 20,
   "id": "c39fb211",
   "metadata": {},
   "outputs": [
    {
     "name": "stderr",
     "output_type": "stream",
     "text": [
      "C:\\Users\\USER\\AppData\\Local\\Temp/ipykernel_15076/1091457909.py:27: UserWarning: FixedFormatter should only be used together with FixedLocator\n",
      "  ax.set_xticklabels(['']+all_categories,rotation=90)\n",
      "C:\\Users\\USER\\AppData\\Local\\Temp/ipykernel_15076/1091457909.py:28: UserWarning: FixedFormatter should only be used together with FixedLocator\n",
      "  ax.set_yticklabels(['']+all_categories)\n"
     ]
    },
    {
     "data": {
      "image/png": "[encoded data removed]",
      "text/plain": [
       "<Figure size 432x288 with 2 Axes>"
      ]
     },
     "metadata": {
      "needs_background": "light"
     },
     "output_type": "display_data"
    }
   ],
   "source": [
    "confusion = torch.zeros(n_categories, n_categories)\n",
    "n_confusion = 10000\n",
    "\n",
    "def evaluate(line_tensor):\n",
    "    hidden = rnn.initHidden()\n",
    "\n",
    "    for i in range(line_tensor.size()[0]):\n",
    "        output, hidden = rnn(line_tensor[i],hidden)\n",
    "\n",
    "    return output\n",
    "\n",
    "for i in range(n_confusion):\n",
    "    category, line, category_tensor,line_tensor = randomTrainingExample()\n",
    "    output = evaluate(line_tensor)\n",
    "    guess, guess_i = categoryFromOutput(output)\n",
    "    category_i = all_categories.index(category)\n",
    "    confusion[category_i][guess_i] += 1\n",
    "\n",
    "for i in range(n_categories):\n",
    "    confusion[i] = confusion[i] / confusion[i].sum()\n",
    "\n",
    "fig = plt.figure()\n",
    "ax = fig.add_subplot(111)\n",
    "cax = ax.matshow(confusion.numpy())\n",
    "fig.colorbar(cax)\n",
    "\n",
    "ax.set_xticklabels(['']+all_categories,rotation=90)\n",
    "ax.set_yticklabels(['']+all_categories)\n",
    "\n",
    "ax.xaxis.set_major_locator(ticker.MultipleLocator(1))\n",
    "ax.yaxis.set_major_locator(ticker.MultipleLocator(1))\n",
    "\n",
    "plt.show()\n"
   ]
  },
  {
   "cell_type": "markdown",
   "id": "7f81b298",
   "metadata": {},
   "source": [
    "## 预测\n",
    "对每个名字,预测3个最有可能的类别"
   ]
  },
  {
   "cell_type": "code",
   "execution_count": 21,
   "id": "39f4ca12",
   "metadata": {},
   "outputs": [
    {
     "name": "stdout",
     "output_type": "stream",
     "text": [
      "\n",
      "> Dovesky\n",
      "(-0.35) Russian\n",
      "(-1.53) Czech\n",
      "(-3.16) Polish\n",
      "\n",
      "> Jackson\n",
      "(-0.12) Scottish\n",
      "(-2.90) Russian\n",
      "(-3.33) English\n",
      "\n",
      "> Satoshi\n",
      "(-1.21) Polish\n",
      "(-1.35) Japanese\n",
      "(-1.62) Italian\n",
      "\n",
      "> Coco\n",
      "(-0.90) Italian\n",
      "(-1.49) Spanish\n",
      "(-2.22) Portuguese\n"
     ]
    }
   ],
   "source": [
    "def predict(input_line, n_predictions=3):\n",
    "    print('\\n> %s'%input_line)\n",
    "    with torch.no_grad():\n",
    "        output = evaluate(lineToTensor(input_line))\n",
    "\n",
    "        topv, topi = output.topk(n_predictions,1,True)\n",
    "        predictions = []\n",
    "\n",
    "        for i in range(n_predictions):\n",
    "            value = topv[0][i].item()\n",
    "            category_index = topi[0][i].item()\n",
    "            print('(%.2f) %s' % (value, all_categories[category_index]))\n",
    "            predictions.append([value, all_categories[category_index]])\n",
    "\n",
    "predict('Dovesky')\n",
    "predict('Jackson')\n",
    "predict('Satoshi')\n",
    "predict('Coco')"
   ]
  },
  {
   "cell_type": "code",
   "execution_count": null,
   "id": "3b82d342",
   "metadata": {},
   "outputs": [],
   "source": []
  }
 ],
 "metadata": {
  "kernelspec": {
   "display_name": "Python 3 (ipykernel)",
   "language": "python",
   "name": "python3"
  },
  "language_info": {
   "codemirror_mode": {
    "name": "ipython",
    "version": 3
   },
   "file_extension": ".py",
   "mimetype": "text/x-python",
   "name": "python",
   "nbconvert_exporter": "python",
   "pygments_lexer": "ipython3",
   "version": "3.8.10"
  }
 },
 "nbformat": 4,
 "nbformat_minor": 5
}
