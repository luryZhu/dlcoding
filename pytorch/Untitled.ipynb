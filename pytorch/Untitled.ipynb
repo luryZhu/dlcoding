{
 "cells": [
  {
   "cell_type": "code",
   "execution_count": 2,
   "id": "9cfbf4a2",
   "metadata": {},
   "outputs": [],
   "source": [
    "import torch, torchvision\n",
    "import numpy as np"
   ]
  },
  {
   "cell_type": "markdown",
   "id": "7ab5bb9c",
   "metadata": {},
   "source": [
    "加载经过预训练的resnet18模型 残差神经网络  \n",
    "随机生成一张 RGB64图像,初始化label"
   ]
  },
  {
   "cell_type": "code",
   "execution_count": 6,
   "id": "e8683876",
   "metadata": {},
   "outputs": [],
   "source": [
    "model = torchvision.models.resnet18(pretrained=True)\n",
    "data = torch.rand(1, 3, 64, 64)\n",
    "labels = torch.rand(1, 1000)"
   ]
  },
  {
   "cell_type": "code",
   "execution_count": 7,
   "id": "ac94ef48",
   "metadata": {},
   "outputs": [],
   "source": [
    "#正向传播\n",
    "prediction = model(data) # forward pass"
   ]
  },
  {
   "cell_type": "code",
   "execution_count": 10,
   "id": "14fa7d6f",
   "metadata": {},
   "outputs": [],
   "source": [
    "#定义损失函数为 误差之和\n",
    "loss = (prediction - labels).sum()\n",
    "#反向传播\n",
    "loss.backward() # backward pass"
   ]
  },
  {
   "cell_type": "code",
   "execution_count": 11,
   "id": "2feae703",
   "metadata": {},
   "outputs": [],
   "source": [
    "#加载优化器SGDM,学习率为0.01,动量为0.9\n",
    "optim = torch.optim.SGD(model.parameters(), lr=1e-2, momentum=0.9)"
   ]
  },
  {
   "cell_type": "code",
   "execution_count": 12,
   "id": "7b20dc1f",
   "metadata": {},
   "outputs": [],
   "source": [
    "#梯度下降\n",
    "optim.step()"
   ]
  },
  {
   "cell_type": "code",
   "execution_count": null,
   "id": "6b79e930",
   "metadata": {},
   "outputs": [],
   "source": []
  }
 ],
 "metadata": {
  "kernelspec": {
   "display_name": "Python 3 (ipykernel)",
   "language": "python",
   "name": "python3"
  },
  "language_info": {
   "codemirror_mode": {
    "name": "ipython",
    "version": 3
   },
   "file_extension": ".py",
   "mimetype": "text/x-python",
   "name": "python",
   "nbconvert_exporter": "python",
   "pygments_lexer": "ipython3",
   "version": "3.8.10"
  }
 },
 "nbformat": 4,
 "nbformat_minor": 5
}
