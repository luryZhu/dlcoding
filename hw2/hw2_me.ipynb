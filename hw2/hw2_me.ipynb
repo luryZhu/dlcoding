{
 "cells": [
  {
   "cell_type": "code",
   "execution_count": 1,
   "id": "c9682115",
   "metadata": {},
   "outputs": [],
   "source": [
    "import sklearn\n",
    "import sys\n",
    "import pandas as pd\n",
    "import numpy as np\n",
    "import math"
   ]
  },
  {
   "cell_type": "markdown",
   "id": "330f419c",
   "metadata": {},
   "source": [
    "# 数据读取\n",
    "参考：https://blog.csdn.net/iteapoy/article/details/105477848"
   ]
  },
  {
   "cell_type": "code",
   "execution_count": 2,
   "id": "6d07aea9",
   "metadata": {},
   "outputs": [],
   "source": [
    "np.random.seed(0)\n",
    "X_train_fpath = './data/X_train'\n",
    "Y_train_fpath = './data/Y_train'\n",
    "X_test_fpath = './data/X_test'\n",
    "output_fpath = './output_{}.csv'\n",
    "\n",
    "# 把csv文件转换成numpy的数组\n",
    "with open(X_train_fpath) as f:\n",
    "    next(f)\n",
    "    X_train = np.array([line.strip('\\n').split(',')[1:] for line in f], dtype = float)\n",
    "with open(Y_train_fpath) as f:\n",
    "    next(f)\n",
    "    Y_train = np.array([line.strip('\\n').split(',')[1] for line in f], dtype = float)\n",
    "with open(X_test_fpath) as f:\n",
    "    next(f)\n",
    "    X_test = np.array([line.strip('\\n').split(',')[1:] for line in f], dtype = float)\n"
   ]
  },
  {
   "cell_type": "markdown",
   "id": "7d0f3524",
   "metadata": {},
   "source": [
    "## 数据处理 标准化\n",
    "\n",
    "$$\\frac{x-mean}{std}$$"
   ]
  },
  {
   "cell_type": "code",
   "execution_count": 3,
   "id": "6a91065b",
   "metadata": {},
   "outputs": [],
   "source": [
    "def _normalize(X, train = True, specified_column = None, X_mean = None, X_std = None):\n",
    "    # 按列对X进行标准化\n",
    "    # 返回均值和标准差\n",
    "    #\n",
    "    # 声明:\n",
    "    #     X: 待处理的数据\n",
    "    #     train: 'True' 表示处理training data, 'False'表示 testing data\n",
    "    #     specific_column: 需要被标准化的列索引\n",
    "    #     X_mean: training data 均值, train = 'False'时用到\n",
    "    #     X_std: training data 标准差, train = 'False'时用到\n",
    "    # 输出:\n",
    "    #     X: normalized data\n",
    "    #     X_mean: computed mean value of training data\n",
    "    #     X_std: computed standard deviation of training data\n",
    "\n",
    "    if specified_column == None:\n",
    "        specified_column = np.arange(X.shape[1])\n",
    "    if train:\n",
    "        X_mean = np.mean(X[:, specified_column] ,0).reshape(1, -1)\n",
    "        X_std  = np.std(X[:, specified_column], 0).reshape(1, -1)\n",
    "\n",
    "    X[:,specified_column] = (X[:, specified_column] - X_mean) / (X_std + 1e-8)\n",
    "     \n",
    "    return X, X_mean, X_std"
   ]
  },
  {
   "cell_type": "code",
   "execution_count": 4,
   "id": "6742f4ca",
   "metadata": {},
   "outputs": [],
   "source": [
    "#标准化训练数据和测试数据\n",
    "X_train, X_mean, X_std = _normalize(X_train, train = True)\n",
    "X_test, _, _= _normalize(X_test, train = False, specified_column = None, X_mean = X_mean, X_std = X_std)"
   ]
  },
  {
   "cell_type": "code",
   "execution_count": 5,
   "id": "75eb60f4",
   "metadata": {},
   "outputs": [],
   "source": [
    "np.save('X_train.npy', X_train)\n",
    "np.save('Y_train.npy', Y_train)\n",
    "np.save('X_test.npy', X_test)"
   ]
  },
  {
   "cell_type": "code",
   "execution_count": 97,
   "id": "a02907be",
   "metadata": {},
   "outputs": [],
   "source": [
    "X_train=np.load('X_train.npy')\n",
    "Y_train=np.load('Y_train.npy')"
   ]
  },
  {
   "cell_type": "code",
   "execution_count": 98,
   "id": "72799326",
   "metadata": {},
   "outputs": [],
   "source": [
    "X_train.shape\n",
    "dim=X_train.shape[1]"
   ]
  },
  {
   "cell_type": "markdown",
   "id": "5fd3b979",
   "metadata": {},
   "source": [
    "# Generative model\n",
    "生成模型\n",
    "对训练集$\\left(x^{1}, \\hat{y}^{1}\\right)\\quad\\left(x^{2}, \\hat{y}^{2}\\right) \\quad \\cdots \\cdots \\quad\\left(x^{N}, \\hat{y}^{N}\\right)$做二分类 $C_1,C_2$\n",
    "\n",
    "C1：年收入超过5k (11151个)  \n",
    "C2：年收入不超过5k (43051个)"
   ]
  },
  {
   "cell_type": "markdown",
   "id": "3e5eb612",
   "metadata": {},
   "source": [
    "#### 1. 求Prior: $P(C_1)$和$P(C_2)$\n",
    "\n",
    "​\t\t$P(C_1)=\\Large\\frac{N_1}{N}$\n",
    "\n",
    "​\t\t$P(C_2)=\\Large\\frac{N_2}{N}$"
   ]
  },
  {
   "cell_type": "code",
   "execution_count": 99,
   "id": "3c9a4ee7",
   "metadata": {},
   "outputs": [
    {
     "name": "stdout",
     "output_type": "stream",
     "text": [
      "0.20552565614862872\n"
     ]
    }
   ],
   "source": [
    "#Proior 先验概率\n",
    "total=len(Y_train)\n",
    "count_C1=Y_train.sum()\n",
    "count_C2=total-count_C1\n",
    "prior_C1=count_C1/total\n",
    "prior_C2=1-prior_C1\n",
    "print(prior_C1)"
   ]
  },
  {
   "cell_type": "markdown",
   "id": "3ecfdb48",
   "metadata": {},
   "source": [
    "\n",
    "#### 2. 求$P\\left(x \\mid C_{1}\\right)$和$P\\left(x \\mid C_{2}\\right)$\n",
    "\n",
    "分别对$C_1,C_2$求极大似然估计\n",
    "\n",
    "$\\mu^{1}=\\large\\frac{1}{N_1} \\sum_{n=1}^{N_1} x^{n}$\n",
    "\n",
    "$\\mu^{2}=\\large\\frac{1}{N_2} \\sum_{n=N_1+1}^{N_1+N_2} x^{n}$\n",
    "\n",
    "$\\Sigma^{1}=\\large\\frac{1}{N_1} \\sum_{n=1}^{N_1}\\normalsize\\left(x^{n}-\\mu_{0}^{*}\\right)\\left(x^{n}-\\mu^{*}\\right)^{T}$\n",
    "\n",
    "$\\Sigma^{2}=\\large\\frac{1}{N_2} \\sum_{n=N_1+1}^{N_1+N_2}\\normalsize\\left(x^{n}-\\mu_{0}^{*}\\right)\\left(x^{n}-\\mu^{*}\\right)^{T}$\n",
    "\n",
    "$\\large\\Sigma=\\frac{N_1}{N}\\Sigma^1+\\frac{N_2}{N}\\Sigma^2$"
   ]
  },
  {
   "cell_type": "code",
   "execution_count": 100,
   "id": "3f8011b8",
   "metadata": {},
   "outputs": [
    {
     "name": "stdout",
     "output_type": "stream",
     "text": [
      "X_C1: (11151, 510)\n",
      "X_C2: (43105, 510)\n"
     ]
    }
   ],
   "source": [
    "#按分类提取出属于C1和C2的样本\n",
    "X_C1=X_train[np.where(Y_train==1)]\n",
    "X_C2=X_train[np.where(Y_train==0)]\n",
    "print(\"X_C1: {}\".format(X_C1.shape))\n",
    "print(\"X_C2: {}\".format(X_C2.shape))"
   ]
  },
  {
   "cell_type": "code",
   "execution_count": 101,
   "id": "b4eeb981",
   "metadata": {},
   "outputs": [
    {
     "name": "stdout",
     "output_type": "stream",
     "text": [
      "(510, 510)\n"
     ]
    }
   ],
   "source": [
    "#求mean vector均值向量,结果应为(1,510)\n",
    "mean_C1=np.mean(X_C1, axis=0)\n",
    "mean_C2=np.mean(X_C2, axis=0)\n",
    "\n",
    "#求covariance matrix协方差均值矩阵,结果应为\n",
    "#这里采用两个分类共用一个covariance\n",
    "cov_C1=np.zeros((dim, dim))\n",
    "cov_C2=np.zeros((dim, dim))\n",
    "for x in X_C1:\n",
    "    cov_C1 +=np.dot(np.transpose([x-mean_C1]),[x-mean_C1])/count_C1\n",
    "for x in X_C2:\n",
    "    cov_C2 +=np.dot(np.transpose([x-mean_C2]),[x-mean_C2],)/count_C2\n",
    "\n",
    "cov=prior_C1*cov_C1+prior_C2*cov_C2\n",
    "print(cov.shape)"
   ]
  },
  {
   "cell_type": "code",
   "execution_count": 102,
   "id": "0e8af465",
   "metadata": {},
   "outputs": [
    {
     "name": "stdout",
     "output_type": "stream",
     "text": [
      "[[ 0.97796336 -0.16810408  0.02986219 ... -0.07983857 -0.02807772\n",
      "   0.02807772]\n",
      " [-0.16810408  0.99154044 -0.19823935 ...  0.48773055 -0.02450272\n",
      "   0.02450272]\n",
      " [ 0.02986219 -0.19823935  0.97001985 ...  0.07409483  0.00484927\n",
      "  -0.00484927]\n",
      " ...\n",
      " [-0.07983857  0.48773055  0.07409483 ...  0.89572619 -0.02888793\n",
      "   0.02888793]\n",
      " [-0.02807772 -0.02450272  0.00484927 ... -0.02888793  0.99868338\n",
      "  -0.99868338]\n",
      " [ 0.02807772  0.02450272 -0.00484927 ...  0.02888793 -0.99868338\n",
      "   0.99868338]]\n"
     ]
    }
   ],
   "source": [
    "print(cov)"
   ]
  },
  {
   "cell_type": "markdown",
   "id": "e761c5b4",
   "metadata": {},
   "source": [
    "$z=w^Tx+b$  \n",
    "$w^T=(\\mu^1-\\mu^2)^T \\Sigma ^{-1}$  \n",
    "$b=-\\frac{1}{2}(\\mu^1)^T \\Sigma {-1} \\mu^1 +\\frac{1}{2}(\\mu^2)^T \\Sigma {-1} \\mu^2 + \\ln \\frac{N_1}{N_2}$"
   ]
  },
  {
   "cell_type": "code",
   "execution_count": 103,
   "id": "c11d3f95",
   "metadata": {},
   "outputs": [
    {
     "name": "stdout",
     "output_type": "stream",
     "text": [
      "(510,) -2.7141060811512236\n"
     ]
    }
   ],
   "source": [
    "# 计算协方差矩阵的逆\n",
    "# 协方差矩阵可能是奇异矩阵, 直接使用np.linalg.inv() 可能会产生错误\n",
    "# 通过SVD矩阵分解，可以快速准确地获得方差矩阵的逆\n",
    "u, s, v = np.linalg.svd(cov, full_matrices=False)\n",
    "inv = np.matmul(v.T * 1 / s, u.T)\n",
    "\n",
    "# 计算w和b\n",
    "w = np.dot(inv, mean_C1 - mean_C2)\n",
    "b =  (-0.5) * np.dot(mean_C1, np.dot(inv, mean_C1)) + 0.5 * np.dot(mean_C2, np.dot(inv, mean_C2))\\\n",
    "    + np.log(count_C1/count_C2) \n",
    "\n",
    "print(w.shape,b)\n"
   ]
  },
  {
   "cell_type": "markdown",
   "id": "9faa4b65",
   "metadata": {},
   "source": [
    "#### 3. 并分类\n",
    "\n",
    "​\t\t$$f(x)=\\left\\{\\begin{matrix}P(C_1|x)>0.5 & \\text { Output }=\\text { class } 1\\\\ \\text { else } & \\text { Output }=\\text { class } 2\\end{matrix}\\right.$$\n"
   ]
  },
  {
   "cell_type": "code",
   "execution_count": 104,
   "id": "920fcedd",
   "metadata": {},
   "outputs": [],
   "source": [
    "def _sigmoid(z):\n",
    "    for i in z:\n",
    "        if i >= 0:\n",
    "            i= 1 / (1 + np.exp(-i))\n",
    "        else:\n",
    "            i= np.exp(i) / (1 + np.exp(i))\n",
    "    return np.clip(z, 1e-8, 1 - (1e-8))\n",
    "\n",
    "def _f(X, w, b):\n",
    "    # f_w,b(x)=sigmoid(wx+b)\n",
    "    return _sigmoid(np.dot(X, w) + b)\n",
    "\n",
    "def _predict(X, w, b):\n",
    "    # 预测\n",
    "    return np.round(_f(X, w, b))\n",
    "    \n",
    "def _accuracy(Y_pred, Y_label):\n",
    "    # 计算准确率\n",
    "    return 1 - np.mean(np.abs(Y_pred - Y_label))"
   ]
  },
  {
   "cell_type": "code",
   "execution_count": 105,
   "id": "5d952bcf",
   "metadata": {},
   "outputs": [
    {
     "name": "stdout",
     "output_type": "stream",
     "text": [
      "Training accuracy: 0.8714427897375405\n"
     ]
    }
   ],
   "source": [
    "# 计算训练集上的准确率\n",
    "Y_train_pred =_predict(X_train, w, b)\n",
    "print('Training accuracy: {}'.format(_accuracy(Y_train_pred, Y_train)))"
   ]
  },
  {
   "cell_type": "markdown",
   "id": "3af84312",
   "metadata": {},
   "source": [
    "## 测试"
   ]
  },
  {
   "cell_type": "code",
   "execution_count": 106,
   "id": "ad8c0367",
   "metadata": {},
   "outputs": [
    {
     "name": "stdout",
     "output_type": "stream",
     "text": [
      " Retail trade -7.36328125\n",
      " 34 5.5859375\n",
      " 37 5.1806640625\n",
      " Other service 4.9052734375\n",
      " Not identifiable 4.015625\n",
      " Utilities and sanitary services 3.796875\n",
      " Federal government 3.796875\n",
      " Not in universe -3.7109375\n",
      " 19 -3.359375\n",
      " Transportation 3.328125\n"
     ]
    }
   ],
   "source": [
    "# 在测试机上运行\n",
    "predictions =_predict(X_test, w, b).astype(int)\n",
    "# 写入output_generative.csv\n",
    "with open(output_fpath.format('generative'), 'w') as f:\n",
    "    f.write('id,label\\n')\n",
    "    for i, label in  enumerate(predictions):\n",
    "        f.write('{},{}\\n'.format(i, label))\n",
    "\n",
    "# 打印最重要的权重\n",
    "#     argsort返回数组小到大的索引值\n",
    "#     [::-1]顺序相反操作\n",
    "ind = np.argsort(np.abs(w))[::-1]\n",
    "# 读取测试集表头数据\n",
    "with open(X_test_fpath) as f:\n",
    "    content = f.readline().strip('\\n').split(',')\n",
    "features = np.array(content)\n",
    "# 打印前10个\n",
    "for i in ind[0:10]:\n",
    "    print(features[i], w[i])"
   ]
  },
  {
   "cell_type": "markdown",
   "id": "d617b0de",
   "metadata": {},
   "source": [
    "# Discriminative Model\n",
    "逻辑回归方法  \n",
    "1. 模型\n",
    "\n",
    "​\t\t$\\large f_{w, b}(x)=\\sigma(\\sum_{i} w_{i} x_{i}+b)$\n",
    "\n",
    "数据处理部分与生成模型一致\n",
    "初始化w和b\n",
    "\n",
    "使用小批次梯度下降法，因为数据集较大，每次选取一个batch的数据计算梯度和损失\n",
    "每结束一个iteration，将数据打乱重新分batch"
   ]
  },
  {
   "cell_type": "code",
   "execution_count": 84,
   "id": "e6a99239",
   "metadata": {},
   "outputs": [],
   "source": [
    "# 初始化w和b\n",
    "w=np.zeros((dim,))\n",
    "b=np.zeros((1,))\n",
    "\n",
    "# 设置超参数\n",
    "max_iter=10       \n",
    "batch_size=8      # 计算一次cost需要输入的样本个数\n",
    "learning_rate=0.1 # 学习率\n",
    "\n",
    "# 每个iteration结束后存储loss和accuracy 绘图\n",
    "train_loss=[]\n",
    "dev_loss=[]\n",
    "train_acc=[]\n",
    "dev_acc=[]\n",
    "\n",
    "# 维护步数\n",
    "step=1"
   ]
  },
  {
   "cell_type": "markdown",
   "id": "4cc26454",
   "metadata": {},
   "source": [
    "2. 目标函数\n",
    "\n",
    "   $L(w, b)=f_{w, b}\\left(x^{1}\\right) f_{w, b}\\left(x^{2}\\right)\\left(1-f_{w, b}\\left(x^{3}\\right)\\right) \\cdots f_{w, b}\\left(x^{N}\\right)$\n",
    "\n",
    "​\t\t$-\\ln L(w,b)=\\sum_{n}-\\left[\\hat{y}^{n} \\ln f_{w, b}\\left(x^{n}\\right)+\\left(1-\\hat{y}^{n}\\right) \\ln \\left(1-f_{w, b}\\left(x^{n}\\right)\\right)\\right]$\n",
    "\n",
    "​\t\t$\\begin{align}w^{*}, b^{*}=\\arg \\min _{w, b}-\\ln L(w, b)\\end{align}$"
   ]
  },
  {
   "cell_type": "code",
   "execution_count": 85,
   "id": "99611f17",
   "metadata": {},
   "outputs": [],
   "source": [
    "def _shuffle(X, Y):\n",
    "    # 随机重排训练集\n",
    "    randomize = np.arange(len(X))\n",
    "    np.random.shuffle(randomize)\n",
    "    return (X[randomize], Y[randomize])\n",
    "\n",
    "def _gradient(X,Y,w,b):\n",
    "    Y_pred=_f(X,w,b)\n",
    "    pred_error=Y-Y_pred\n",
    "    w_grad= -np.sum(pred_error*X.T,1) #指定维度求和\n",
    "    b_grad= -np.sum(pred_error)\n",
    "    return w_grad,b_grad\n",
    "\n",
    "def _loss(Y_pred, Y_label):\n",
    "    #用交叉熵表示损失函数\n",
    "    cross_entrophy=-np.dot(Y_label, np.log(Y_pred+1e-5)) - np.dot((1 - Y_label), np.log(1 - Y_pred+1e-5))\n",
    "    return cross_entrophy"
   ]
  },
  {
   "cell_type": "markdown",
   "id": "5cfac845",
   "metadata": {},
   "source": [
    "3. 更新\n",
    "\n",
    "   ​\t$\\begin{align}\\nabla (-\\ln L(w_i))=\\sum_{n}-(\\hat{y}^n-f_{w,b}(x^n))x_i^n\\\\w_i\\leftarrow w_i-\\eta \\sum_{n}-(\\hat{y}^n-f_{w,b}(x^n))x_i^n\\end{align}$"
   ]
  },
  {
   "cell_type": "code",
   "execution_count": 93,
   "id": "16149109",
   "metadata": {},
   "outputs": [
    {
     "name": "stdout",
     "output_type": "stream",
     "text": [
      "0\n",
      "1\n",
      "2\n",
      "3\n",
      "4\n",
      "5\n",
      "6\n",
      "7\n",
      "8\n",
      "9\n",
      "Training loss: 1.3745991850572465\n",
      "Training accuracy: 0.880603066941905\n"
     ]
    }
   ],
   "source": [
    "for epoch in range(max_iter):\n",
    "    #随机重排训练集\n",
    "    X_train, Y_train=_shuffle(X_train,Y_train)\n",
    "    \n",
    "    #Mini-batch训练\n",
    "    for idx in range(int(np.floor(total/batch_size))):\n",
    "        X=X_train[idx*batch_size:(idx+1)*batch_size]\n",
    "        Y=Y_train[idx*batch_size:(idx+1)*batch_size]\n",
    "        \n",
    "        # 计算梯度\n",
    "        w_grad, b_grad=_gradient(X,Y,w,b)\n",
    "        \n",
    "        # 更新w，b，学习率随时间减小\n",
    "        w=w-learning_rate/np.sqrt(step)*w_grad\n",
    "        b=b-learning_rate/np.sqrt(step)*b_grad\n",
    "        \n",
    "        step=step+1\n",
    "    \n",
    "    # 计算training set和development set的loss和accuracy\n",
    "    print(epoch)\n",
    "    #print(w,b)\n",
    "    Y_train_pred=_predict(X_train, w, b)\n",
    "    train_acc.append(_accuracy(Y_train_pred,Y_train))\n",
    "    train_loss.append(_loss(Y_train_pred,Y_train)/total)\n",
    "    \n",
    "print('Training loss: {}'.format(train_loss[-1]))\n",
    "print('Training accuracy: {}'.format(train_acc[-1]))"
   ]
  },
  {
   "cell_type": "code",
   "execution_count": 94,
   "id": "07530adc",
   "metadata": {},
   "outputs": [
    {
     "data": {
      "image/png": "[encoded data removed]",
      "text/plain": [
       "<Figure size 432x288 with 1 Axes>"
      ]
     },
     "metadata": {
      "needs_background": "light"
     },
     "output_type": "display_data"
    },
    {
     "data": {
      "image/png": "[encoded data removed]",
      "text/plain": [
       "<Figure size 432x288 with 1 Axes>"
      ]
     },
     "metadata": {
      "needs_background": "light"
     },
     "output_type": "display_data"
    }
   ],
   "source": [
    "# 绘图\n",
    "import matplotlib.pyplot as plt\n",
    "# Loss curve\n",
    "plt.plot(train_loss)\n",
    "plt.title('Loss')\n",
    "plt.legend(['train'])\n",
    "plt.savefig('loss.png')\n",
    "plt.show()\n",
    "\n",
    "# Accuracy curve\n",
    "plt.plot(train_acc)\n",
    "plt.title('Accuracy')\n",
    "plt.legend(['train'])\n",
    "plt.savefig('acc.png')\n",
    "plt.show()"
   ]
  },
  {
   "cell_type": "code",
   "execution_count": 91,
   "id": "1006544c",
   "metadata": {},
   "outputs": [
    {
     "name": "stdout",
     "output_type": "stream",
     "text": [
      "[ 1.00900713e-01 -3.24453682e-04  2.41328572e-02 -1.29736373e-02\n",
      "  1.52322663e-03  4.41598183e-03 -8.10023568e-03 -6.30979321e-03\n",
      "  1.09660619e-02 -1.55217480e-02 -5.05360256e-03  7.92284628e-04\n",
      " -3.87286996e-03  1.79833980e-02 -4.50317266e-04  7.76168514e-04\n",
      "  6.45179379e-03 -6.35924211e-03  1.49940565e-03 -1.39146012e-02\n",
      " -3.26905587e-03  6.87819997e-03 -3.52416702e-03  2.50291503e-03\n",
      "  8.88451944e-03 -1.52308986e-03 -8.18325022e-03  2.49629623e-03\n",
      "  2.41451780e-03  2.20256257e-03 -9.54040736e-03 -9.46487668e-03\n",
      " -5.51113002e-03  6.54847078e-03 -2.75873813e-03  1.11716493e-02\n",
      "  1.43115179e-02 -6.25621063e-03 -1.10247437e-03 -2.08649775e-03\n",
      " -2.53018327e-04  2.05881839e-02  3.23268574e-04 -3.16454961e-04\n",
      " -1.38143254e-02  2.09658138e-03  1.01531645e-03 -1.55778517e-03\n",
      " -2.04784452e-03  2.21785635e-03  5.61687217e-03  5.50149343e-03\n",
      " -7.88606878e-03 -8.01203230e-03 -5.96902984e-03  3.86606185e-03\n",
      " -1.75672401e-03  1.56787650e-03 -5.18072252e-03 -4.72256280e-03\n",
      " -6.27184150e-03  1.49039151e-03 -1.05273098e-02  2.53173418e-02\n",
      " -1.13089148e-02 -2.30151486e-03 -8.65059752e-03  1.56539476e-02\n",
      "  8.81597573e-03  1.08218869e-02 -2.35294344e-03 -8.04507928e-03\n",
      "  8.34690944e-04 -2.39690190e-02 -1.44303457e-02 -3.08911969e-03\n",
      " -3.65388578e-03 -5.83888662e-03  1.70544212e-03  1.05012257e-03\n",
      "  1.59509317e-02 -9.57369965e-03 -7.30039202e-03 -9.20675557e-03\n",
      " -4.97794015e-03 -5.59040499e-03 -1.89646763e-02  1.28536585e-03\n",
      "  8.44354053e-03 -1.05946868e-02  3.71827580e-03  3.06420151e-04\n",
      "  5.18238353e-03 -6.53442371e-03 -1.31202924e-02  7.47438431e-03\n",
      " -1.50625335e-02 -1.49150115e-02  3.09276866e-02 -3.18751620e-03\n",
      "  5.50149343e-03 -1.22510166e-03  5.41368796e-03  3.21679285e-02\n",
      "  2.39010266e-02  9.82785284e-03  1.16951384e-02 -1.46112572e-03\n",
      " -6.27184150e-03  1.19619150e-03  6.73407065e-03 -1.94048972e-02\n",
      "  4.01831296e-02  7.74412581e-02 -9.90663800e-03  5.53213823e-04\n",
      "  8.09046015e-02  5.74489492e-02  2.06346115e-02 -8.84119626e-03\n",
      "  5.94944717e-02  1.58286778e-02  2.62026850e-02 -3.91305218e-01\n",
      " -3.32994628e-03 -2.54224851e-03 -6.67933533e-03  2.03930857e-02\n",
      "  1.06301714e-02 -3.98579323e-02 -5.01898085e-03 -9.58060152e-04\n",
      " -6.12063644e-03  3.80584116e-03  3.22914373e-02 -6.61676190e-04\n",
      " -3.15008256e-02  5.61687217e-03  3.23268574e-04 -5.51113002e-03\n",
      " -1.39146012e-02  4.93155109e-03  3.86606185e-03 -8.18325022e-03\n",
      " -7.27764399e-04 -3.52416702e-03 -3.26905587e-03  6.87819997e-03\n",
      "  5.50149343e-03 -4.72256280e-03 -3.16454961e-04  2.09658138e-03\n",
      "  1.49940565e-03 -2.40814698e-03 -2.04784452e-03  1.39888930e-02\n",
      " -1.55778517e-03  4.64719906e-03 -1.38143254e-02  1.57987764e-04\n",
      " -6.27184150e-03 -2.10542452e-02  5.04584963e-03 -2.06957564e-02\n",
      " -5.59040499e-03  2.41995644e-02  7.47438431e-03 -2.90255691e-03\n",
      "  1.09209939e-02  5.50149343e-03 -3.86021301e-03 -1.49183994e-02\n",
      " -1.11486902e-02 -2.24715624e-02 -6.27184150e-03  2.50585277e-02\n",
      " -6.70020424e-03  5.10218044e-03  6.94692454e-03 -4.23559388e-03\n",
      " -6.13834334e-03  8.75796582e-03 -4.89475059e-03 -2.20825467e-03\n",
      " -3.67020582e-03  1.06572143e-02 -9.43987199e-03 -1.69912269e-02\n",
      "  2.94528577e-03 -1.06784467e-02  1.19141114e-02  4.70059989e-02\n",
      " -4.70059989e-02  6.25256595e-05  1.36858777e-04 -1.30647214e-04\n",
      " -8.19783820e-03  1.63751050e-03  2.60316063e-03  8.99809149e-04\n",
      "  1.09660619e-02 -3.27629766e-03  1.05075645e-03 -6.45830912e-02\n",
      "  2.81399127e-02  3.68921244e-02  8.68153009e-03  2.82805148e-02\n",
      " -1.83954477e-03  1.04035155e-02  2.00150181e-01  4.30229020e-02\n",
      "  1.15049450e-01 -6.08041330e-02 -1.15227017e-02 -1.85315114e-02\n",
      "  3.53272495e-02  1.70885272e-02  2.40159921e-02  4.44200582e-03\n",
      "  5.74288834e-03 -3.49152548e-03 -6.40333464e-03 -6.57596152e-03\n",
      "  5.37075105e-03  3.37848494e-03  2.00747871e-03 -2.97967450e-03\n",
      "  5.04687209e-03  1.21973617e-03 -5.88410411e-03 -5.45357307e-03\n",
      " -2.65540311e-03  1.13419125e-03  6.39811980e-04  2.30773051e-03\n",
      " -2.83983240e-03  4.97594888e-03  9.53313921e-03 -4.54491509e-04\n",
      "  1.83342605e-03 -9.21419810e-03  3.92013654e-03  3.02871785e-04\n",
      " -3.05754857e-03  3.18732051e-04 -7.63557084e-03  8.29255340e-03\n",
      "  3.47742881e-03 -4.45405332e-03 -3.87130515e-03  1.44453358e-03\n",
      "  2.14218167e-03 -1.51045934e-03  2.46128809e-03 -3.49152548e-03\n",
      " -6.78812093e-03  5.79982918e-04 -4.93976130e-03 -3.15502550e-03\n",
      " -4.72262265e-03  3.21626058e-03  5.46872650e-03  3.65236926e-04\n",
      "  2.17321665e-03 -6.72444461e-03  1.53874018e-03 -3.90808310e-03\n",
      "  7.81032351e-03  6.33595018e-03 -4.91618228e-03  6.97731194e-03\n",
      " -4.56679055e-03 -1.05847240e-02 -9.95045292e-04  1.24486365e-02\n",
      " -9.72370124e-02  9.11912611e-02  4.45587696e-02 -1.31817825e-01\n",
      "  4.07568650e-03  8.21737198e-03  3.45152077e-03  4.45714421e-02\n",
      "  3.59730765e-03  9.51811194e-03  0.00000000e+00  4.41028741e-02\n",
      " -1.60050778e-01 -1.66044702e-01  1.50666782e-03 -1.92603106e-02\n",
      "  2.65515006e-02  3.59730520e-03  7.98629575e-02  1.99299383e-02\n",
      "  6.42916195e-03  2.76633699e-02  2.95217770e-02 -3.46930888e-01\n",
      " -4.12331700e-01 -5.46294368e-02  0.00000000e+00  3.01211957e-02\n",
      "  1.76268994e-02  1.84594014e-02 -1.46136728e-01  3.59730617e-03\n",
      "  1.97540461e-03  7.22361782e-03  6.58815306e-04  3.95421882e-02\n",
      "  6.17782361e-02  3.59730815e-03  8.73478877e-03 -4.09611011e-01\n",
      "  8.40462842e-02  3.39895442e-02  2.35598336e-02 -4.47752222e-03\n",
      "  1.26769046e-01 -2.39831844e-02 -5.63695015e-02  3.95250007e-03\n",
      "  7.39483947e-03  1.95689038e-02 -2.56816916e-03  6.09829257e-03\n",
      "  3.79396670e-03 -5.29883822e-03  2.65286523e-03 -8.36074543e-03\n",
      " -2.49830533e-03  3.65028677e-03  3.95250007e-03  1.14062315e-02\n",
      " -4.96287006e-03  6.09829257e-03  7.49947355e-04 -6.57596152e-03\n",
      " -8.36074543e-03  3.17700952e-03  3.65028677e-03  3.95250007e-03\n",
      " -6.04124371e-03  4.44916751e-03  6.09829257e-03  7.49947355e-04\n",
      "  4.62562825e-03 -6.57596152e-03 -8.36074543e-03 -8.06867806e-03\n",
      "  6.09829257e-03  3.49152548e-03  6.39178217e-03 -8.36074543e-03\n",
      "  2.65673619e-03  2.13613234e-03  6.26628321e-02  4.45034383e-01\n",
      " -1.50577067e-01 -9.30044879e-02 -4.00854794e-01 -8.86953803e-02\n",
      "  6.93912146e-03 -1.89445443e-03  2.22111226e-02 -2.38268041e-02\n",
      " -2.37472869e-02  6.47799236e-03 -2.28996426e-03  6.37284539e-03\n",
      "  5.27136053e-03  1.99501816e-02  1.60459802e-03 -2.85553535e-03\n",
      "  2.26594693e-03  1.07238311e-02  1.10485250e-02  2.88593635e-03\n",
      "  1.87044888e-03  1.88390811e-02  2.92444752e-03  2.41151140e-02\n",
      " -2.17596962e-01  8.02500610e-04  1.59620427e-02 -3.71128588e-03\n",
      "  2.13027683e-02  1.06103016e-03  1.08271057e-02  8.40531741e-03\n",
      " -4.60098460e-03  5.07911184e-03  1.17811279e-02 -1.16967599e-03\n",
      "  9.41462111e-03  1.23090008e-02 -7.18281882e-01 -5.46502477e-03\n",
      "  2.20163856e-03 -1.05257067e-03 -7.11681236e-03  6.64891832e-03\n",
      "  3.53172517e-02 -1.56242915e-02 -5.56600611e-04  5.80173714e-03\n",
      "  5.90549175e-03 -1.86446625e-02  1.09209503e-03 -6.07964399e-03\n",
      " -7.92581004e-03 -3.55923775e-03  4.20991388e-04  1.52593419e-02\n",
      " -6.28106740e-03 -1.51775193e-02  6.60446873e-03  1.08193376e-02\n",
      " -1.85088080e-02 -3.85660368e-03 -4.79943531e-02  1.72712715e-03\n",
      " -1.28778926e-02 -5.91140842e-03  2.43905898e-03  1.36800354e-02\n",
      " -1.67489472e-02  2.27177589e-02  5.70754679e-03  1.97962054e-03\n",
      " -1.05324014e-02  2.65391856e-02  8.38901826e-03 -5.13986046e-03\n",
      "  4.68490681e-03 -2.60930107e-03 -7.87033504e-04  2.79821851e-03\n",
      "  3.14105662e-04 -1.04014290e-03 -1.51721303e-01  1.30131836e-03\n",
      " -4.36441313e-04  1.15520756e-02 -9.98978455e-04  3.57820819e-02\n",
      " -4.10156364e-04  2.88026216e-03 -2.29723764e-02 -3.65325476e-03\n",
      " -3.95221149e-03  8.07995846e-03  1.79755078e-02  4.50462755e-03\n",
      "  1.14601088e-02  5.74440275e-03 -1.50477912e-02 -7.24975546e-03\n",
      "  1.44465073e-02 -1.30610751e-03 -5.62752642e-03  4.00461914e-03\n",
      "  5.98499283e-03  4.27722808e-02 -2.78163738e-03  1.10796278e-02\n",
      " -1.74167439e-02 -2.62644247e-02 -3.71184529e-02  2.22525294e-02\n",
      "  3.00517083e-03 -9.34347020e-04  2.61217807e-03 -3.08260613e-04\n",
      "  6.59443107e-03  2.42879251e-03 -7.65591519e-04 -4.16168351e-03\n",
      " -1.49564577e-03 -1.00088099e-03 -5.39769050e-03  1.44761722e-03\n",
      "  5.11355091e-03 -1.85415795e-01  2.22510953e-03 -1.02737705e-03\n",
      " -6.69007764e-03  1.09255011e-02 -7.01964362e-02  3.21975272e-03\n",
      "  5.38022380e-04 -2.65273595e-03  4.00001250e-03 -4.32194046e-03\n",
      "  2.34312305e-03 -4.32021351e-04  1.12009985e-03 -5.64582729e-03\n",
      "  1.05608709e-02 -5.20726515e-02  1.88716031e-02  4.85263820e-02\n",
      "  3.31475698e-01 -3.91799484e-01  5.20726515e-02  1.25706251e-01\n",
      "  8.36074543e-03 -8.36074543e-03]\n",
      "20\n"
     ]
    }
   ],
   "source": [
    "print(w)\n",
    "print(len(train_acc))"
   ]
  },
  {
   "cell_type": "code",
   "execution_count": 96,
   "id": "888ff4b4",
   "metadata": {},
   "outputs": [
    {
     "name": "stdout",
     "output_type": "stream",
     "text": [
      " Italy -0.7186299977482026\n",
      "num persons worked for employer 0.43799159171076085\n",
      " Grandchild 18+ never marr RP of subfamily -0.4032477187279099\n",
      " Child under 18 ever married -0.40061350653687255\n",
      " 2 -0.4000520712070334\n",
      " High school graduate -0.3995633260291326\n",
      " Neither parent present -0.38700571921575294\n",
      " Other Rel 18+ ever marr RP of subfamily -0.34707299843736633\n",
      " No 0.34000306020221394\n",
      " Vietnam -0.21867981727955152\n"
     ]
    }
   ],
   "source": [
    "# 在测试集上运行\n",
    "predictions = _predict(X_test, w, b).astype(int)\n",
    "with open(output_fpath.format('logistic'), 'w') as f:\n",
    "    f.write('id,label\\n')\n",
    "    for i, label in  enumerate(predictions):\n",
    "        f.write('{},{}\\n'.format(i, label))\n",
    "\n",
    "# Print out the most significant weights\n",
    "ind = np.argsort(np.abs(w))[::-1]\n",
    "with open(X_test_fpath) as f:\n",
    "    content = f.readline().strip('\\n').split(',')\n",
    "features = np.array(content)\n",
    "for i in ind[0:10]:\n",
    "    print(features[i], w[i])"
   ]
  },
  {
   "cell_type": "code",
   "execution_count": null,
   "id": "27b4ae26",
   "metadata": {},
   "outputs": [],
   "source": []
  }
 ],
 "metadata": {
  "kernelspec": {
   "display_name": "Python 3",
   "language": "python",
   "name": "python3"
  },
  "language_info": {
   "codemirror_mode": {
    "name": "ipython",
    "version": 3
   },
   "file_extension": ".py",
   "mimetype": "text/x-python",
   "name": "python",
   "nbconvert_exporter": "python",
   "pygments_lexer": "ipython3",
   "version": "3.8.10"
  }
 },
 "nbformat": 4,
 "nbformat_minor": 5
}
